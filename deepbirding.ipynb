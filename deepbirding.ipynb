{
 "cells": [
  {
   "cell_type": "code",
   "execution_count": 1,
   "id": "initial_id",
   "metadata": {
    "collapsed": true,
    "ExecuteTime": {
     "end_time": "2023-09-21T18:16:24.953208400Z",
     "start_time": "2023-09-21T18:16:22.872210200Z"
    }
   },
   "outputs": [
    {
     "name": "stdout",
     "output_type": "stream",
     "text": [
      "labels abhori1\n",
      "audio_data abhori1/XC153690.ogg\n"
     ]
    }
   ],
   "source": [
    "import numpy as np\n",
    "import pandas as pd\n",
    "import matplotlib.pyplot as plt\n",
    "import torch\n",
    "import torchaudio\n",
    "from torch.utils.data import Dataset\n",
    "from torch.utils.data import DataLoader\n",
    "import os\n",
    "\n",
    "#for dirname, _, filenames in os.walk('/kaggle/input'):\n",
    "   # for filename in filenames:\n",
    "     #   print(os.path.join(dirname, filename))\n",
    "\n",
    "d = {}\n",
    "\n",
    "\n",
    "class AudioClassificationDataset(Dataset):\n",
    "    def __init__(self, data_dir, csv_file, transform=None):\n",
    "        self.data_dir = data_dir\n",
    "        self.csv_file = csv_file\n",
    "        self.transform = transform\n",
    "        self.data = self._load_data()\n",
    "\n",
    "        #Itt tortenik a labelek es a hozzajuk tartozo fileok kiszedese a csv segitsegevel\n",
    "    def _load_data(self):\n",
    "        data = pd.read_csv(self.csv_file)\n",
    "        labels_arr = data['primary_label']\n",
    "        audio_data_filename_arr = data['filename']\n",
    "        \n",
    "        print('labels',data['primary_label'][25])\n",
    "        print('audio_data',data['filename'][25])\n",
    "        \n",
    "#        for key in labels_arr:\n",
    "#            value = []\n",
    "#            for v in audio_data_filename_arr:\n",
    "#                audio_file = audio_data_dir + key + \"/\" + v\n",
    "#                print(\"audio_file\")\n",
    "#                print(audio_file)\n",
    "#                exit()\n",
    "        \n",
    "        return data\n",
    "\n",
    "    def __len__(self):\n",
    "        return len(self.data)\n",
    "\n",
    "    def __getitem__(self, idx):\n",
    "        audio_file = os.path.join(self.data_dir, self.data.iloc[idx, 0])\n",
    "        label = self.data.iloc[idx, 1]\n",
    "        \n",
    "        waveform, sample_rate = torchaudio.load(audio_file)\n",
    "        \n",
    "        if self.transform is not None:\n",
    "            waveform = self.transform(waveform)\n",
    "            \n",
    "        plt.figure(figsize=(10, 4))\n",
    "        plt.plot(waveform.t().numpy())\n",
    "        plt.xlabel('Time (s)')\n",
    "        plt.ylabel('Amplitude')\n",
    "        plt.title('Audio Waveform')\n",
    "        plt.grid()\n",
    "        plt.show()\n",
    "        \n",
    "        return waveform, label\n",
    "\n",
    "#contents of train_audio\n",
    "audio_data_dir = 'data/train_audio/'\n",
    "#train_metadata.csv\n",
    "csv_file = 'data/train_metadata.csv'\n",
    "\n",
    "# Create an instance of your custom dataset\n",
    "dataset = AudioClassificationDataset(audio_data_dir, csv_file)\n",
    "\n",
    "# Create a DataLoader to batch and shuffle the data\n",
    "batch_size = 32\n",
    "dataloader = DataLoader(dataset, batch_size=batch_size, shuffle=True)"
   ]
  }
 ],
 "metadata": {
  "kernelspec": {
   "display_name": "Python 3",
   "language": "python",
   "name": "python3"
  },
  "language_info": {
   "codemirror_mode": {
    "name": "ipython",
    "version": 2
   },
   "file_extension": ".py",
   "mimetype": "text/x-python",
   "name": "python",
   "nbconvert_exporter": "python",
   "pygments_lexer": "ipython2",
   "version": "2.7.6"
  }
 },
 "nbformat": 4,
 "nbformat_minor": 5
}
