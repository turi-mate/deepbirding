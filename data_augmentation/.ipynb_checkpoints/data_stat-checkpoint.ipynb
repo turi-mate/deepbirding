{
 "cells": [
  {
   "cell_type": "code",
   "execution_count": null,
   "id": "initial_id",
   "metadata": {
    "collapsed": true,
    "ExecuteTime": {
     "start_time": "2023-10-03T19:03:49.718465Z"
    }
   },
   "outputs": [],
   "source": [
    "import numpy as np\n",
    "import pandas as pd\n",
    "import matplotlib.pyplot as plt\n",
    "import librosa\n",
    "import scipy.signal\n",
    "import random\n",
    "import torch\n",
    "import torch.nn as nn\n",
    "import torch.optim as optim\n",
    "from torch.utils.data import Dataset\n",
    "from torch.utils.data import DataLoader,Dataset\n",
    "import torch.nn.functional as F\n",
    "import os\n",
    "\n",
    "audio_data_dir = '../data/train_audio/'\n",
    "csv_file = '../data/train_metadata.csv'\n",
    "\n",
    "data = pd.read_csv(csv_file)\n",
    "labels_arr = data['primary_label']\n",
    "audio_data_filename_arr = data['filename']\n",
    "\n",
    "waveforms = []\n",
    "sample_rates = []\n",
    "num_of_not_exist = 0\n",
    "\n",
    "for file_name in audio_data_filename_arr:\n",
    "    audio_file = os.path.join(audio_data_dir, file_name)\n",
    "\n",
    "    if os.path.exists(audio_file):\n",
    "        waveform, sample_rate = librosa.load(audio_file, sr=None)\n",
    "\n",
    "        waveforms.append(librosa.get_duration(y=waveform, sr=sample_rate))\n",
    "        sample_rates.append(sample_rate)\n",
    "    else:\n",
    "        num_of_not_exist += 1"
   ]
  },
  {
   "cell_type": "code",
   "execution_count": null,
   "outputs": [],
   "source": [
    "print('min waveform ', np.min(waveforms))\n",
    "print('max waveform  ', np.max(waveforms))\n",
    "print('max waveform  ', np.mean(waveforms))\n",
    "\n",
    "print('min sample rate ', np.min(sample_rates))\n",
    "print('max sample rate ', np.max(sample_rates))\n",
    "\n",
    "print('num of not exist ', num_of_not_exist)"
   ],
   "metadata": {
    "collapsed": false,
    "ExecuteTime": {
     "end_time": "2023-10-03T19:03:49.721620Z",
     "start_time": "2023-10-03T19:03:49.720618600Z"
    }
   },
   "id": "94bad5423887cc21"
  }
 ],
 "metadata": {
  "kernelspec": {
   "display_name": "Python 3",
   "language": "python",
   "name": "python3"
  },
  "language_info": {
   "codemirror_mode": {
    "name": "ipython",
    "version": 2
   },
   "file_extension": ".py",
   "mimetype": "text/x-python",
   "name": "python",
   "nbconvert_exporter": "python",
   "pygments_lexer": "ipython2",
   "version": "2.7.6"
  }
 },
 "nbformat": 4,
 "nbformat_minor": 5
}
